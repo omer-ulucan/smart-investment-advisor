{
 "cells": [
  {
   "cell_type": "code",
   "execution_count": 85,
   "metadata": {},
   "outputs": [],
   "source": [
    "import pandas as pd\n",
    "import glob\n",
    "import os"
   ]
  },
  {
   "cell_type": "code",
   "execution_count": 86,
   "metadata": {},
   "outputs": [
    {
     "name": "stdout",
     "output_type": "stream",
     "text": [
      "         Date   Open   High    Low  Close    Volume  Name\n",
      "0  2006-01-03  39.69  41.22  38.79  40.91  24232729  AABA\n",
      "1  2006-01-04  41.22  41.90  40.77  40.97  20553479  AABA\n",
      "2  2006-01-05  40.93  41.73  40.85  41.53  12829610  AABA\n",
      "3  2006-01-06  42.88  43.57  42.80  43.21  29422828  AABA\n",
      "4  2006-01-09  43.10  43.66  42.82  43.42  16268338  AABA\n"
     ]
    }
   ],
   "source": [
    "# Dosyaların bulunduğu klasörü belirt (örneğin, \"data\" klasörü)\n",
    "data_path = r\"C:\\Users\\gerha\\OneDrive\\Desktop\\smart-investment-advisor\\smart-investment-advisor\\datasheets\"  # Eğer aynı dizindeyse sadece \"./\"\n",
    "\n",
    "# Tüm Excel dosyalarını listele\n",
    "files = glob.glob(os.path.join(data_path, \"*.csv*\"))  # .xlsx ve .xls dosyalarını alır\n",
    "\n",
    "# Boş bir liste oluştur\n",
    "df_list = []\n",
    "\n",
    "# Tüm dosyaları döngüyle oku ve listeye ekle\n",
    "for file in files:\n",
    "    df = pd.read_csv(file)\n",
    "    df_list.append(df)\n",
    "\n",
    "# Tüm DataFrame'leri birleştir\n",
    "merged_df = pd.concat(df_list, ignore_index=True)\n",
    "\n",
    "# İlk birkaç satıra bakalım\n",
    "print(merged_df.head())\n"
   ]
  },
  {
   "cell_type": "code",
   "execution_count": 87,
   "metadata": {},
   "outputs": [
    {
     "data": {
      "text/html": [
       "<div>\n",
       "<style scoped>\n",
       "    .dataframe tbody tr th:only-of-type {\n",
       "        vertical-align: middle;\n",
       "    }\n",
       "\n",
       "    .dataframe tbody tr th {\n",
       "        vertical-align: top;\n",
       "    }\n",
       "\n",
       "    .dataframe thead th {\n",
       "        text-align: right;\n",
       "    }\n",
       "</style>\n",
       "<table border=\"1\" class=\"dataframe\">\n",
       "  <thead>\n",
       "    <tr style=\"text-align: right;\">\n",
       "      <th></th>\n",
       "      <th>Date</th>\n",
       "      <th>Open</th>\n",
       "      <th>High</th>\n",
       "      <th>Low</th>\n",
       "      <th>Close</th>\n",
       "      <th>Volume</th>\n",
       "      <th>Name</th>\n",
       "    </tr>\n",
       "  </thead>\n",
       "  <tbody>\n",
       "    <tr>\n",
       "      <th>0</th>\n",
       "      <td>2006-01-03</td>\n",
       "      <td>39.69</td>\n",
       "      <td>41.22</td>\n",
       "      <td>38.79</td>\n",
       "      <td>40.91</td>\n",
       "      <td>24232729</td>\n",
       "      <td>AABA</td>\n",
       "    </tr>\n",
       "    <tr>\n",
       "      <th>1</th>\n",
       "      <td>2006-01-04</td>\n",
       "      <td>41.22</td>\n",
       "      <td>41.90</td>\n",
       "      <td>40.77</td>\n",
       "      <td>40.97</td>\n",
       "      <td>20553479</td>\n",
       "      <td>AABA</td>\n",
       "    </tr>\n",
       "    <tr>\n",
       "      <th>2</th>\n",
       "      <td>2006-01-05</td>\n",
       "      <td>40.93</td>\n",
       "      <td>41.73</td>\n",
       "      <td>40.85</td>\n",
       "      <td>41.53</td>\n",
       "      <td>12829610</td>\n",
       "      <td>AABA</td>\n",
       "    </tr>\n",
       "    <tr>\n",
       "      <th>3</th>\n",
       "      <td>2006-01-06</td>\n",
       "      <td>42.88</td>\n",
       "      <td>43.57</td>\n",
       "      <td>42.80</td>\n",
       "      <td>43.21</td>\n",
       "      <td>29422828</td>\n",
       "      <td>AABA</td>\n",
       "    </tr>\n",
       "    <tr>\n",
       "      <th>4</th>\n",
       "      <td>2006-01-09</td>\n",
       "      <td>43.10</td>\n",
       "      <td>43.66</td>\n",
       "      <td>42.82</td>\n",
       "      <td>43.42</td>\n",
       "      <td>16268338</td>\n",
       "      <td>AABA</td>\n",
       "    </tr>\n",
       "  </tbody>\n",
       "</table>\n",
       "</div>"
      ],
      "text/plain": [
       "         Date   Open   High    Low  Close    Volume  Name\n",
       "0  2006-01-03  39.69  41.22  38.79  40.91  24232729  AABA\n",
       "1  2006-01-04  41.22  41.90  40.77  40.97  20553479  AABA\n",
       "2  2006-01-05  40.93  41.73  40.85  41.53  12829610  AABA\n",
       "3  2006-01-06  42.88  43.57  42.80  43.21  29422828  AABA\n",
       "4  2006-01-09  43.10  43.66  42.82  43.42  16268338  AABA"
      ]
     },
     "execution_count": 87,
     "metadata": {},
     "output_type": "execute_result"
    }
   ],
   "source": [
    "merged_df.to_csv(\"merged_stock_data.csv\", index=False)\n",
    "merged_df.head()"
   ]
  },
  {
   "cell_type": "code",
   "execution_count": 88,
   "metadata": {},
   "outputs": [
    {
     "name": "stdout",
     "output_type": "stream",
     "text": [
      "31\n"
     ]
    }
   ],
   "source": [
    "company_number = merged_df[\"Name\"].nunique()\n",
    "print(company_number)"
   ]
  },
  {
   "cell_type": "code",
   "execution_count": 89,
   "metadata": {},
   "outputs": [
    {
     "name": "stdout",
     "output_type": "stream",
     "text": [
      "['AABA' 'AAPL' 'MMM' 'AXP' 'BA' 'CAT' 'CVX' 'CSCO' 'KO' 'DIS' 'XOM' 'GE'\n",
      " 'GS' 'HD' 'IBM' 'INTC' 'JNJ' 'JPM' 'MCD' 'MRK' 'MSFT' 'NKE' 'PFE' 'PG'\n",
      " 'TRV' 'UTX' 'UNH' 'VZ' 'WMT' 'GOOGL' 'AMZN']\n"
     ]
    }
   ],
   "source": [
    "company_names = merged_df[\"Name\"].unique()\n",
    "print(company_names)"
   ]
  },
  {
   "cell_type": "code",
   "execution_count": 90,
   "metadata": {},
   "outputs": [
    {
     "data": {
      "text/plain": [
       "Date       0\n",
       "Open      74\n",
       "High      29\n",
       "Low       59\n",
       "Close      0\n",
       "Volume     0\n",
       "Name       0\n",
       "dtype: int64"
      ]
     },
     "execution_count": 90,
     "metadata": {},
     "output_type": "execute_result"
    }
   ],
   "source": [
    "merged_df.isnull().sum()"
   ]
  },
  {
   "cell_type": "code",
   "execution_count": 91,
   "metadata": {},
   "outputs": [],
   "source": [
    "merged_df[\"Date\"] = pd.to_datetime(merged_df[\"Date\"]) #we changed the date format  "
   ]
  },
  {
   "cell_type": "code",
   "execution_count": 92,
   "metadata": {},
   "outputs": [
    {
     "data": {
      "text/plain": [
       "Date      0\n",
       "Open      0\n",
       "High      0\n",
       "Low       0\n",
       "Close     0\n",
       "Volume    0\n",
       "Name      0\n",
       "dtype: int64"
      ]
     },
     "execution_count": 92,
     "metadata": {},
     "output_type": "execute_result"
    }
   ],
   "source": [
    "#since we have a lot of lost values, we need to fill the missing values with ffill and bfill\n",
    "merged_df.ffill(inplace=True)  #use the value from the day earlier\n",
    "merged_df.bfill(inplace=True)  #use the value from the day later\n",
    "merged_df.isnull().sum()"
   ]
  },
  {
   "cell_type": "code",
   "execution_count": 93,
   "metadata": {},
   "outputs": [],
   "source": [
    "import matplotlib.pyplot as plt"
   ]
  },
  {
   "cell_type": "code",
   "execution_count": 94,
   "metadata": {},
   "outputs": [
    {
     "data": {
      "image/png": "[encoded data removed]",
      "text/plain": [
       "<Figure size 1200x600 with 1 Axes>"
      ]
     },
     "metadata": {},
     "output_type": "display_data"
    }
   ],
   "source": [
    "apple_stock = merged_df[merged_df[\"Name\"] == \"AAPL\"]\n",
    "\n",
    "plt.figure(figsize=(12, 6))\n",
    "plt.plot(apple_stock[\"Date\"], apple_stock[\"Close\"], label=\"AAPL Kapanış Fiyatı\", color=\"blue\")\n",
    "plt.xlabel(\"Date\")\n",
    "plt.ylabel(\"Price ($)\")\n",
    "plt.title(\"Apple Closing Prices in Time\")\n",
    "plt.legend()\n",
    "plt.xticks(rotation=45)\n",
    "plt.show()"
   ]
  },
  {
   "cell_type": "code",
   "execution_count": 95,
   "metadata": {},
   "outputs": [],
   "source": [
    "from sklearn.preprocessing import MinMaxScaler\n",
    "\n",
    "#Omer bunu kontrol et\n",
    "#we need to get data ready for LSTM model\n",
    "merged_df[\"Date\"] = pd.to_datetime(merged_df[\"Date\"]) #we changed the date format  \n",
    "merged_df.sort_values(by=[\"Name\", \"Date\"], inplace=True)\n",
    "\n",
    "\n",
    "scaler = MinMaxScaler(feature_range=(0, 1))\n",
    "merged_df[\"Close_Scaled\"] = scaler.fit_transform(merged_df[[\"Close\"]])\n"
   ]
  },
  {
   "cell_type": "code",
   "execution_count": 96,
   "metadata": {},
   "outputs": [
    {
     "name": "stdout",
     "output_type": "stream",
     "text": [
      "X shape: (6229, 60, 1)\n",
      "y shape: (6229,)\n"
     ]
    }
   ],
   "source": [
    "import numpy as np\n",
    "\n",
    "def create_sequences(data, seq_length):\n",
    "    X, y = [], []\n",
    "    for i in range(len(data) - seq_length):\n",
    "        X.append(data[i:i + seq_length])  # Son 60 günün verisi\n",
    "        y.append(data[i + seq_length])    # 61. günün fiyatı\n",
    "    return np.array(X), np.array(y)\n",
    "\n",
    "# Örnek bir şirket için veriyi alalım (Apple - AAPL)\n",
    "apple_stock = merged_df[merged_df[\"Name\"] == \"AAPL\"]\n",
    "\n",
    "# Yalnızca kapanış fiyatını kullanıyoruz\n",
    "close_prices = apple_stock[\"Close\"].values\n",
    "\n",
    "# 60 günlük geçmiş veri kullanarak tahmin yapacağız\n",
    "seq_length = 60\n",
    "\n",
    "# Veriyi LSTM için formatlayalım\n",
    "X, y = create_sequences(close_prices, seq_length)\n",
    "\n",
    "# LSTM modeli için girdi boyutunu düzenleyelim (samples, time steps, features)\n",
    "X = np.reshape(X, (X.shape[0], X.shape[1], 1))\n",
    "\n",
    "print(\"X shape:\", X.shape)  # (örneğin: 3650, 60, 1)\n",
    "print(\"y shape:\", y.shape)  # (örneğin: 3650,)\n"
   ]
  },
  {
   "cell_type": "code",
   "execution_count": 97,
   "metadata": {},
   "outputs": [
    {
     "name": "stdout",
     "output_type": "stream",
     "text": [
      "       Name  Volatility Risk_Level\n",
      "0      AABA         NaN       High\n",
      "15     AABA    0.026008       High\n",
      "16     AABA    0.026383       High\n",
      "17     AABA    0.026160       High\n",
      "18     AABA    0.024717       High\n",
      "...     ...         ...        ...\n",
      "36231   XOM    0.002978        Low\n",
      "36232   XOM    0.002884        Low\n",
      "36233   XOM    0.002814        Low\n",
      "36234   XOM    0.002724        Low\n",
      "36235   XOM    0.002815        Low\n",
      "\n",
      "[93519 rows x 3 columns]\n"
     ]
    }
   ],
   "source": [
    "merged_df[\"Return\"] = merged_df.groupby(\"Name\")[\"Close\"].pct_change()  # Günlük getiriyi hesapla\n",
    "merged_df[\"Volatility\"] = merged_df.groupby(\"Name\")[\"Return\"].rolling(window=30).std().reset_index(0, drop=True)  # 30 günlük volatilite\n",
    "\n",
    "# Volatilite yüzdelik (percentile) eşiklerini belirleyelim\n",
    "low_threshold = merged_df[\"Volatility\"].quantile(0.33)  # İlk %33\n",
    "high_threshold = merged_df[\"Volatility\"].quantile(0.66) # %66'nın üstü\n",
    "\n",
    "# Risk seviyelerini güncelleyelim\n",
    "def classify_risk(vol):\n",
    "    if vol < low_threshold:\n",
    "        return \"Low\"\n",
    "    elif vol < high_threshold:\n",
    "        return \"Medium\"\n",
    "    else:\n",
    "        return \"High\"\n",
    "\n",
    "# Güncellenmiş risk seviyelerini atayalım\n",
    "merged_df[\"Risk_Level\"] = merged_df[\"Volatility\"].apply(classify_risk)\n",
    "\n",
    "# Sonuçları görelim\n",
    "print(merged_df[[\"Name\", \"Volatility\", \"Risk_Level\"]].drop_duplicates())\n"
   ]
  },
  {
   "cell_type": "code",
   "execution_count": 98,
   "metadata": {},
   "outputs": [
    {
     "name": "stdout",
     "output_type": "stream",
     "text": [
      "        Name  Volatility Risk_Level\n",
      "0       AABA    0.016865     Medium\n",
      "3019    AAPL    0.014158     Medium\n",
      "93612   AMZN    0.017477     Medium\n",
      "9058     AXP    0.016114     Medium\n",
      "15097     BA    0.012125     Medium\n",
      "18117    CAT    0.013955     Medium\n",
      "24157   CSCO    0.012734     Medium\n",
      "21137    CVX    0.011571     Medium\n",
      "30196    DIS    0.011499     Medium\n",
      "36236     GE    0.012933     Medium\n",
      "90593  GOOGL    0.012787     Medium\n",
      "39256     GS    0.016568     Medium\n",
      "42276     HD    0.011384     Medium\n",
      "45296    IBM    0.009372        Low\n",
      "48316   INTC    0.012439     Medium\n",
      "51335    JNJ    0.006870        Low\n",
      "54355    JPM    0.017885     Medium\n",
      "27176     KO    0.007730        Low\n",
      "57375    MCD    0.008111        Low\n",
      "6038     MMM    0.009361        Low\n",
      "60395    MRK    0.010961     Medium\n",
      "63414   MSFT    0.011746     Medium\n",
      "66433    NKE    0.011837     Medium\n",
      "69453    PFE    0.009625        Low\n",
      "72473     PG    0.007446        Low\n",
      "75493    TRV    0.012189     Medium\n",
      "81533    UNH    0.014290     Medium\n",
      "78513    UTX    0.010142     Medium\n",
      "84553     VZ    0.009329        Low\n",
      "87573    WMT    0.008481        Low\n",
      "33216    XOM    0.010486     Medium\n"
     ]
    }
   ],
   "source": [
    "\n",
    "\n",
    "# 📌 Günlük getiri (return) hesaplayalım\n",
    "merged_df[\"Return\"] = merged_df.groupby(\"Name\")[\"Close\"].pct_change()\n",
    "\n",
    "# 📌 Volatiliteyi (standart sapma) hesaplayalım\n",
    "volatility = merged_df.groupby(\"Name\")[\"Return\"].std()\n",
    "\n",
    "# 📌 Volatiliteyi DataFrame'e ekleyelim\n",
    "merged_df[\"Volatility\"] = merged_df[\"Name\"].map(volatility)\n",
    "\n",
    "# 📌 Risk seviyelerini belirleme (Volatiliteye göre)\n",
    "def classify_risk(vol):\n",
    "    if vol < 0.01:\n",
    "        return \"Low\"\n",
    "    elif vol < 0.03:\n",
    "        return \"Medium\"\n",
    "    else:\n",
    "        return \"High\"\n",
    "\n",
    "# 📌 Risk seviyesini belirleyelim\n",
    "merged_df[\"Risk_Level\"] = merged_df[\"Volatility\"].apply(classify_risk)\n",
    "\n",
    "# 📌 Risk seviyelerini kontrol edelim\n",
    "print(merged_df[[\"Name\", \"Volatility\", \"Risk_Level\"]].drop_duplicates())\n"
   ]
  },
  {
   "cell_type": "code",
   "execution_count": 99,
   "metadata": {},
   "outputs": [
    {
     "name": "stdout",
     "output_type": "stream",
     "text": [
      "Model accuracy: 0.943591189969488\n"
     ]
    }
   ],
   "source": [
    "#classifying risk levels\n",
    "from sklearn.model_selection import train_test_split\n",
    "from sklearn.ensemble import RandomForestClassifier\n",
    "from sklearn.preprocessing import LabelEncoder\n",
    "\n",
    "# Sadece kapanış fiyatı ve hacim gibi finansal verileri alalım\n",
    "features = [\"Close\", \"Volume\"]\n",
    "X = merged_df[features]\n",
    "y = merged_df[\"Risk_Level\"]  # Risk seviyesini içeren bir kolon olmalı\n",
    "\n",
    "# Risk seviyelerini numerik hale getirelim\n",
    "le = LabelEncoder()\n",
    "y = le.fit_transform(y)\n",
    "\n",
    "# Eğitim ve test verisini ayıralım\n",
    "X_train, X_test, y_train, y_test = train_test_split(X, y, test_size=0.2, random_state=42)\n",
    "\n",
    "# Random Forest modelini eğit\n",
    "clf = RandomForestClassifier(n_estimators=100, random_state=42)\n",
    "clf.fit(X_train, y_train)\n",
    "\n",
    "# Modeli test et\n",
    "accuracy = clf.score(X_test, y_test)\n",
    "print(\"Model accuracy:\", accuracy)"
   ]
  },
  {
   "cell_type": "code",
   "execution_count": 100,
   "metadata": {},
   "outputs": [
    {
     "name": "stdout",
     "output_type": "stream",
     "text": [
      "              precision    recall  f1-score   support\n",
      "\n",
      "           0       0.92      0.89      0.90     11243\n",
      "           1       0.95      0.97      0.96     27758\n",
      "\n",
      "    accuracy                           0.94     39001\n",
      "   macro avg       0.93      0.93      0.93     39001\n",
      "weighted avg       0.94      0.94      0.94     39001\n",
      "\n",
      "[[ 9962  1281]\n",
      " [  919 26839]]\n"
     ]
    }
   ],
   "source": [
    "from sklearn.metrics import classification_report, confusion_matrix\n",
    "\n",
    "y_pred = clf.predict(X_test)\n",
    "print(classification_report(y_test, y_pred))   #1. Classification Report\n",
    "print(confusion_matrix(y_test, y_pred))         #2. Confusion Matrix\n",
    "\n",
    "#f1 score = Precision ve Recall’ün harmonik ortalaması. Eğer precision ve recall arasında dengesizlik varsa, F1-score daha iyi bir gösterge olur."
   ]
  }
 ],
 "metadata": {
  "kernelspec": {
   "display_name": "Python 3",
   "language": "python",
   "name": "python3"
  },
  "language_info": {
   "codemirror_mode": {
    "name": "ipython",
    "version": 3
   },
   "file_extension": ".py",
   "mimetype": "text/x-python",
   "name": "python",
   "nbconvert_exporter": "python",
   "pygments_lexer": "ipython3",
   "version": "3.13.0"
  }
 },
 "nbformat": 4,
 "nbformat_minor": 2
}
